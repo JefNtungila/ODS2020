{
 "cells": [
  {
   "cell_type": "markdown",
   "metadata": {
    "collapsed": true
   },
   "source": [
    "### Python module/package imports for this chapter"
   ]
  },
  {
   "cell_type": "code",
   "execution_count": 2,
   "metadata": {},
   "outputs": [],
   "source": [
    "import math, json, collections, itertools"
   ]
  },
  {
   "cell_type": "code",
   "execution_count": 3,
   "metadata": {},
   "outputs": [],
   "source": [
    "import numpy as np\n"
   ]
  },
  {
   "cell_type": "markdown",
   "metadata": {},
   "source": [
    "## Mastering Python loops"
   ]
  },
  {
   "cell_type": "code",
   "execution_count": 5,
   "metadata": {},
   "outputs": [
    {
     "name": "stdout",
     "output_type": "stream",
     "text": [
      "1\n",
      "1\n",
      "2\n",
      "3\n",
      "5\n",
      "8\n",
      "13\n",
      "21\n",
      "34\n",
      "55\n"
     ]
    }
   ],
   "source": [
    "for n in [1,1,2,3,5,8,13,21,34,55]:\n",
    "    print(n)"
   ]
  },
  {
   "cell_type": "code",
   "execution_count": 6,
   "metadata": {},
   "outputs": [
    {
     "name": "stdout",
     "output_type": "stream",
     "text": [
      "F\n",
      "i\n",
      "b\n",
      "o\n",
      "n\n",
      "a\n",
      "c\n",
      "c\n",
      "i\n"
     ]
    }
   ],
   "source": [
    "for l in \"Fibonacci\":\n",
    "    print(l)"
   ]
  },
  {
   "cell_type": "code",
   "execution_count": 7,
   "metadata": {},
   "outputs": [
    {
     "name": "stdout",
     "output_type": "stream",
     "text": [
      "Athens (1896)\n",
      "Paris (1900)\n",
      "St Louis (1904)\n",
      "London (1908)\n",
      "Stockholm (1912)\n",
      "Antwerp (1920)\n",
      "Paris (1924)\n",
      "Amsterdam (1928)\n",
      "Los Angeles (1932)\n",
      "Berlin (1936)\n",
      "London (1948)\n",
      "Helsinki (1952)\n",
      "Melbourne / Stockholm (1956)\n",
      "Rome (1960)\n",
      "Tokyo (1964)\n",
      "Mexico (1968)\n",
      "Munich (1972)\n",
      "Montreal (1976)\n",
      "Moscow (1980)\n",
      "Los Angeles (1984)\n",
      "Seoul (1988)\n",
      "Barcelona (1992)\n",
      "Atlanta (1996)\n",
      "Sydney (2000)\n",
      "Athens (2004)\n",
      "Beijing (2008)\n",
      "London (2012)\n",
      "Rio (2016)\n"
     ]
    }
   ],
   "source": [
    "for game in open('games.txt','r'):\n",
    "    print(game,end='')"
   ]
  },
  {
   "cell_type": "code",
   "execution_count": 8,
   "metadata": {},
   "outputs": [
    {
     "name": "stdout",
     "output_type": "stream",
     "text": [
      "Athens (1896)\n",
      "Paris (1900)\n",
      "St Louis\n",
      "London (1908)\n",
      "Stockholm (1912)\n",
      "Antwerp (1920)\n",
      "Paris (1924)\n",
      "Amsterdam (1928)\n",
      "Los Angeles\n",
      "Berlin (1936)\n",
      "London (1948)\n",
      "Helsinki (1952)\n",
      "Melbourne /\n",
      "Rome (1960)\n",
      "Tokyo (1964)\n",
      "Mexico (1968)\n",
      "Munich (1972)\n",
      "Montreal (1976)\n",
      "Moscow (1980)\n",
      "Los Angeles\n",
      "Seoul (1988)\n",
      "Barcelona (1992)\n",
      "Atlanta (1996)\n",
      "Sydney (2000)\n",
      "Athens (2004)\n",
      "Beijing (2008)\n",
      "London (2012)\n",
      "Rio (2016)\n"
     ]
    }
   ],
   "source": [
    "for game in open('games.txt','r'):\n",
    "    city = game.split()[0]\n",
    "    year = game.split()[1]\n",
    "    \n",
    "    print(city,year)"
   ]
  },
  {
   "cell_type": "code",
   "execution_count": 9,
   "metadata": {},
   "outputs": [
    {
     "name": "stdout",
     "output_type": "stream",
     "text": [
      "Athens 1896\n",
      "Paris 1900\n",
      "St Louis 1904\n",
      "London 1908\n",
      "Stockholm 1912\n",
      "Antwerp 1920\n",
      "Paris 1924\n",
      "Amsterdam 1928\n",
      "Los Angeles 1932\n",
      "Berlin 1936\n",
      "London 1948\n",
      "Helsinki 1952\n",
      "Melbourne / Stockholm 1956\n",
      "Rome 1960\n",
      "Tokyo 1964\n",
      "Mexico 1968\n",
      "Munich 1972\n",
      "Montreal 1976\n",
      "Moscow 1980\n",
      "Los Angeles 1984\n",
      "Seoul 1988\n",
      "Barcelona 1992\n",
      "Atlanta 1996\n",
      "Sydney 2000\n",
      "Athens 2004\n",
      "Beijing 2008\n",
      "London 2012\n",
      "Rio 2016\n"
     ]
    }
   ],
   "source": [
    "for game in open('games.txt','r'):\n",
    "    words = game.split()\n",
    "    \n",
    "    city = ' '.join(words[:-1])\n",
    "    year = words[-1].strip('()')\n",
    "    \n",
    "    print(city,year)"
   ]
  },
  {
   "cell_type": "code",
   "execution_count": null,
   "metadata": {},
   "outputs": [],
   "source": []
  }
 ],
 "metadata": {
  "anaconda-cloud": {},
  "kernelspec": {
   "display_name": "Python 3",
   "language": "python",
   "name": "python3"
  },
  "language_info": {
   "codemirror_mode": {
    "name": "ipython",
    "version": 3
   },
   "file_extension": ".py",
   "mimetype": "text/x-python",
   "name": "python",
   "nbconvert_exporter": "python",
   "pygments_lexer": "ipython3",
   "version": "3.7.4"
  }
 },
 "nbformat": 4,
 "nbformat_minor": 1
}
