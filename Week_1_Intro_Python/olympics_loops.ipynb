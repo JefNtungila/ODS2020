{
 "cells": [
  {
   "cell_type": "markdown",
   "metadata": {
    "collapsed": true
   },
   "source": [
    "### Python module/package imports for this chapter"
   ]
  },
  {
   "cell_type": "code",
   "execution_count": 1,
   "metadata": {
    "collapsed": true
   },
   "outputs": [],
   "source": [
    "import math, json, collections, itertools"
   ]
  },
  {
   "cell_type": "code",
   "execution_count": 2,
   "metadata": {
    "collapsed": true
   },
   "outputs": [],
   "source": [
    "import numpy as np\n",
   
   ]
  },
  {
   "cell_type": "code",
   "execution_count": 3,
   "metadata": {
    "collapsed": true
   },
   "outputs": [],
   
  {
   "cell_type": "markdown",
   "metadata": {},
   "source": [
    "## Mastering Python loops"
   ]
  },
  {
   "cell_type": "code",
   "execution_count": 4,
   "metadata": {},
   "outputs": [
    {
     "name": "stdout",
     "output_type": "stream",
     "text": [
      "1\n",
      "1\n",
      "2\n",
      "3\n",
      "5\n",
      "8\n",
      "13\n",
      "21\n",
      "34\n",
      "55\n"
     ]
    }
   ],
   "source": [
    "for n in [1,1,2,3,5,8,13,21,34,55]:\n",
    "    print(n)"
   ]
  },
  {
   "cell_type": "code",
   "execution_count": 5,
   "metadata": {},
   "outputs": [
    {
     "name": "stdout",
     "output_type": "stream",
     "text": [
      "F\n",
      "i\n",
      "b\n",
      "o\n",
      "n\n",
      "a\n",
      "c\n",
      "c\n",
      "i\n"
     ]
    }
   ],
   "source": [
    "for l in \"Fibonacci\":\n",
    "    print(l)"
   ]
  },
  {
   "cell_type": "code",
   "execution_count": 7,
   "metadata": {},
   "outputs": [
    {
     "name": "stdout",
     "output_type": "stream",
     "text": [
      "F\n",
      "i\n",
      "b\n"
     ]
    },
    {
     "ename": "StopIteration",
     "evalue": "",
     "output_type": "error",
     "traceback": [
      "\u001b[0;31m---------------------------------------------------------------------------\u001b[0m",
      "\u001b[0;31mStopIteration\u001b[0m                             Traceback (most recent call last)",
      "\u001b[0;32m<ipython-input-7-e946bfd0f03c>\u001b[0m in \u001b[0;36m<module>\u001b[0;34m()\u001b[0m\n\u001b[1;32m      3\u001b[0m \u001b[0mprint\u001b[0m\u001b[0;34m(\u001b[0m\u001b[0mit\u001b[0m\u001b[0;34m.\u001b[0m\u001b[0m__next__\u001b[0m\u001b[0;34m(\u001b[0m\u001b[0;34m)\u001b[0m\u001b[0;34m)\u001b[0m\u001b[0;34m\u001b[0m\u001b[0m\n\u001b[1;32m      4\u001b[0m \u001b[0mprint\u001b[0m\u001b[0;34m(\u001b[0m\u001b[0mit\u001b[0m\u001b[0;34m.\u001b[0m\u001b[0m__next__\u001b[0m\u001b[0;34m(\u001b[0m\u001b[0;34m)\u001b[0m\u001b[0;34m)\u001b[0m\u001b[0;34m\u001b[0m\u001b[0m\n\u001b[0;32m----> 5\u001b[0;31m \u001b[0mprint\u001b[0m\u001b[0;34m(\u001b[0m\u001b[0mit\u001b[0m\u001b[0;34m.\u001b[0m\u001b[0m__next__\u001b[0m\u001b[0;34m(\u001b[0m\u001b[0;34m)\u001b[0m\u001b[0;34m)\u001b[0m\u001b[0;34m\u001b[0m\u001b[0m\n\u001b[0m",
      "\u001b[0;31mStopIteration\u001b[0m: "
     ]
    }
   ],
   "source": [
    "it = iter(\"Fib\")\n",
    "print(it.__next__())\n",
    "print(it.__next__())\n",
    "print(it.__next__())\n",
    "print(it.__next__())"
   ]
  },
  {
   "cell_type": "code",
   "execution_count": 8,
   "metadata": {},
   "outputs": [
    {
     "name": "stdout",
     "output_type": "stream",
     "text": [
      "Athens (1896)\n",
      "Paris (1900)\n",
      "St Louis (1904)\n",
      "London (1908)\n",
      "Stockholm (1912)\n",
      "Antwerp (1920)\n",
      "Paris (1924)\n",
      "Amsterdam (1928)\n",
      "Los Angeles (1932)\n",
      "Berlin (1936)\n",
      "London (1948)\n",
      "Helsinki (1952)\n",
      "Melbourne / Stockholm (1956)\n",
      "Rome (1960)\n",
      "Tokyo (1964)\n",
      "Mexico (1968)\n",
      "Munich (1972)\n",
      "Montreal (1976)\n",
      "Moscow (1980)\n",
      "Los Angeles (1984)\n",
      "Seoul (1988)\n",
      "Barcelona (1992)\n",
      "Atlanta (1996)\n",
      "Sydney (2000)\n",
      "Athens (2004)\n",
      "Beijing (2008)\n",
      "London (2012)\n",
      "Rio (2016)\n"
     ]
    }
   ],
   "source": [
    "for game in open('games.txt','r'):\n",
    "    print(game,end='')"
   ]
  },
  {
   "cell_type": "code",
   "execution_count": 9,
   "metadata": {},
   "outputs": [
    {
     "name": "stdout",
     "output_type": "stream",
     "text": [
      "Athens (1896)\n",
      "Paris (1900)\n",
      "St Louis\n",
      "London (1908)\n",
      "Stockholm (1912)\n",
      "Antwerp (1920)\n",
      "Paris (1924)\n",
      "Amsterdam (1928)\n",
      "Los Angeles\n",
      "Berlin (1936)\n",
      "London (1948)\n",
      "Helsinki (1952)\n",
      "Melbourne /\n",
      "Rome (1960)\n",
      "Tokyo (1964)\n",
      "Mexico (1968)\n",
      "Munich (1972)\n",
      "Montreal (1976)\n",
      "Moscow (1980)\n",
      "Los Angeles\n",
      "Seoul (1988)\n",
      "Barcelona (1992)\n",
      "Atlanta (1996)\n",
      "Sydney (2000)\n",
      "Athens (2004)\n",
      "Beijing (2008)\n",
      "London (2012)\n",
      "Rio (2016)\n"
     ]
    }
   ],
   "source": [
    "for game in open('games.txt','r'):\n",
    "    city = game.split()[0]\n",
    "    year = game.split()[1]\n",
    "    \n",
    "    print(city,year)"
   ]
  },
  {
   "cell_type": "code",
   "execution_count": 10,
   "metadata": {},
   "outputs": [
    {
     "name": "stdout",
     "output_type": "stream",
     "text": [
      "Athens 1896\n",
      "Paris 1900\n",
      "St Louis 1904\n",
      "London 1908\n",
      "Stockholm 1912\n",
      "Antwerp 1920\n",
      "Paris 1924\n",
      "Amsterdam 1928\n",
      "Los Angeles 1932\n",
      "Berlin 1936\n",
      "London 1948\n",
      "Helsinki 1952\n",
      "Melbourne / Stockholm 1956\n",
      "Rome 1960\n",
      "Tokyo 1964\n",
      "Mexico 1968\n",
      "Munich 1972\n",
      "Montreal 1976\n",
      "Moscow 1980\n",
      "Los Angeles 1984\n",
      "Seoul 1988\n",
      "Barcelona 1992\n",
      "Atlanta 1996\n",
      "Sydney 2000\n",
      "Athens 2004\n",
      "Beijing 2008\n",
      "London 2012\n",
      "Rio 2016\n"
     ]
    }
   ],
   "source": [
    "for game in open('games.txt','r'):\n",
    "    words = game.split()\n",
    "    \n",
    "    city = ' '.join(words[:-1])\n",
    "    year = words[-1].strip('()')\n",
    "    \n",
    "    print(city,year)"
   ]
  },
  {
   "cell_type": "code",
   "execution_count": 11,
   "metadata": {
    "collapsed": true
   },
   "outputs": [],
   "source": [
    "cities, years = [], []\n",
    "\n",
    "for game in open('games.txt','r'):\n",
    "    words = game.split()\n",
    "    \n",
    "    city = ' '.join(words[:-1])\n",
    "    year = words[-1].strip('()')\n",
    "    \n",
    "    cities.append(city)\n",
    "    years.append(year)"
   ]
  },
  {
   "cell_type": "code",
   "execution_count": 12,
   "metadata": {},
   "outputs": [
    {
     "name": "stdout",
     "output_type": "stream",
     "text": [
      "Locating Athens\n",
      "Locating Paris\n",
      "Locating St Louis\n",
      "Locating London\n",
      "Locating Stockholm\n",
      "Locating Antwerp\n",
      "Locating Paris\n",
      "Locating Amsterdam\n",
      "Locating Los Angeles\n",
      "Locating Berlin\n",
      "Locating London\n",
      "Locating Helsinki\n",
      "Locating Melbourne / Stockholm\n",
      "Locating Rome\n",
      "Locating Tokyo\n",
      "Locating Mexico\n",
      "Locating Munich\n",
      "Locating Montreal\n",
      "Locating Moscow\n",
      "Locating Los Angeles\n",
      "Locating Seoul\n",
      "Locating Barcelona\n",
      "Locating Atlanta\n",
      "Locating Sydney\n",
      "Locating Athens\n",
      "Locating Beijing\n",
      "Locating London\n",
      "Locating Rio\n"
     ]
    }
   ],
  
