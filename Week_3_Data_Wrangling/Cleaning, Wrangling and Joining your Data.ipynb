{
 "cells": [
  {
   "cell_type": "markdown",
   "metadata": {},
   "source": [
    "# Wrangling data..."
   ]
  },
  {
   "cell_type": "markdown",
   "metadata": {},
   "source": [
    "In order to use your marketing data correctly it needs to be in the right format to run calculations, draw charts and marke predictions. Gettting your data in the correct order is refered to as data wrangling. "
   ]
  },
  {
   "cell_type": "markdown",
   "metadata": {},
   "source": [
    "In the section you will:\n",
    "\n",
    "<ul>\n",
    "    <li>Correcting data from Google Analytics by creating a new page URL</li>\n",
    "    <li>Group data</li>\n",
    "    <li>Fix data types</li>\n",
    "    <li>Drop columns</li>\n",
    "    <li>Replace data values</li>\n",
    "    <li>Join two dataset to create a new dataset</li>\n",
    "    <li>Save new datasets as CSV</li>\n",
    "</ul>"
   ]
  },
  {
   "cell_type": "code",
   "execution_count": null,
   "metadata": {},
   "outputs": [],
   "source": [
    "import pandas as pd # Lodad the pandas library"
   ]
  },
  {
   "cell_type": "code",
   "execution_count": null,
   "metadata": {},
   "outputs": [],
   "source": [
    "#Import google analytics pages data\n",
    "ga_page_data = pd.read_csv('data/ga_data/ga_pages.csv', skiprows=6, nrows=376)\n",
    "ga_page_traffic_data = pd.read_csv('data/ga_data/ga_pages.csv', \n",
    "                                   skiprows=386, nrows=366, parse_dates=['Day Index'])"
   ]
  },
  {
   "cell_type": "code",
   "execution_count": null,
   "metadata": {},
   "outputs": [],
   "source": [
    "#Importing pages data from Google Search Console\n",
    "gsc_page = pd.read_csv('data/gsc_data/gsc_pages.csv')"
   ]
  },
  {
   "cell_type": "code",
   "execution_count": null,
   "metadata": {},
   "outputs": [],
   "source": [
    "#Import Facebook ad data\n",
    "fb_data = pd.read_csv('data/other_data/facebook-data-ads.csv', \n",
    "                      parse_dates=['Reporting starts','Reporting ends'])"
   ]
  },
  {
   "cell_type": "markdown",
   "metadata": {},
   "source": [
    "## Fix Google Analytics Page data"
   ]
  },
  {
   "cell_type": "markdown",
   "metadata": {},
   "source": [
    "We know that some of the data being gathered in Google Analytics is wrong. Google Analytics has been gathering homepage data under two page, these pages are `/` and `/www.miratrix.co.uk`.\n",
    "\n",
    "Also during this process we will want to create a URL that can be paired with data gathered from Google Search Console. I'll split the data on '/' to allow me to break the URL into three parts. '/' denotes a breaks in the URL. Then I will rebuild the URL in the order which matches the GSC data URL's."
   ]
  },
  {
   "cell_type": "code",
   "execution_count": null,
   "metadata": {},
   "outputs": [],
   "source": [
    "#Look at Google Analytics data\n",
    "ga_page_data.head()"
   ]
  },
  {
   "cell_type": "markdown",
   "metadata": {},
   "source": [
    "### Recreate Google Analytics Page URL"
   ]
  },
  {
   "cell_type": "code",
   "execution_count": null,
   "metadata": {},
   "outputs": [],
   "source": [
    "#Split the url by /\n",
    "split_dom = ga_page_data.Page.str.rpartition(\"/\")"
   ]
  },
  {
   "cell_type": "code",
   "execution_count": null,
   "metadata": {},
   "outputs": [],
   "source": [
    "split_dom.head()"
   ]
  },
  {
   "cell_type": "code",
   "execution_count": null,
   "metadata": {},
   "outputs": [],
   "source": [
    "split_dom[2].replace(\"\", \"miratrix.co.uk\", inplace=True)"
   ]
  },
  {
   "cell_type": "code",
   "execution_count": null,
   "metadata": {},
   "outputs": [],
   "source": [
    "#Change URLformat so that it matches other data sources \n",
    "split_dom[2].replace(\"www.miratrix.co.uk\", \"miratrix.co.uk\", inplace=True)"
   ]
  },
  {
   "cell_type": "code",
   "execution_count": null,
   "metadata": {},
   "outputs": [],
   "source": [
    "split_dom.head()"
   ]
  },
  {
   "cell_type": "code",
   "execution_count": null,
   "metadata": {},
   "outputs": [],
   "source": [
    "#Build the URL and replace current URL's with new URL format\n",
    "ga_page_data.Page = \"https://\" + split_dom[2] + split_dom[0] + \"/\""
   ]
  },
  {
   "cell_type": "code",
   "execution_count": null,
   "metadata": {},
   "outputs": [],
   "source": [
    "ga_page_data.head()"
   ]
  },
  {
   "cell_type": "markdown",
   "metadata": {},
   "source": [
    "### Grouping Data"
   ]
  },
  {
   "cell_type": "markdown",
   "metadata": {},
   "source": [
    "In order to fix the issue of having two homepage URL (and possibly more) we will need to group the data by Page. This poses some issues as not all the data are numerical and you are also dealing with a timeseries.\n",
    "\n",
    "What can be done is to change the object fields to numerical and to convert the time on page column to a timedelta."
   ]
  },
  {
   "cell_type": "code",
   "execution_count": null,
   "metadata": {},
   "outputs": [],
   "source": [
    "ga_page_data.info()"
   ]
  },
  {
   "cell_type": "markdown",
   "metadata": {},
   "source": [
    "#### Wrangling data types for Groupby function"
   ]
  },
  {
   "cell_type": "code",
   "execution_count": null,
   "metadata": {},
   "outputs": [],
   "source": [
    "#Replace 0  with time format 00:00:00\n",
    "ga_page_data['Avg. Time on Page'] = ga_page_data['Avg. Time on Page'].replace(0, '00:00:00')"
   ]
  },
  {
   "cell_type": "code",
   "execution_count": null,
   "metadata": {},
   "outputs": [],
   "source": [
    "#Convert column from string to time delta\n",
    "ga_page_data['Avg. Time on Page'] = pd.to_timedelta(ga_page_data['Avg. Time on Page'])"
   ]
  },
  {
   "cell_type": "code",
   "execution_count": null,
   "metadata": {},
   "outputs": [],
   "source": [
    "#Replace % with nothing\n",
    "ga_page_data['Bounce Rate'] = ga_page_data['Bounce Rate'].str.replace('%',\"\")\n",
    "#Convert the column into a Float\n",
    "ga_page_data['Bounce Rate'] = ga_page_data['Bounce Rate'].astype('float')"
   ]
  },
  {
   "cell_type": "code",
   "execution_count": null,
   "metadata": {},
   "outputs": [],
   "source": [
    "#Replace % with nothing\n",
    "ga_page_data['% Exit'] = ga_page_data['% Exit'].str.replace('%',\"\")\n",
    "#Convert the column into a Float\n",
    "ga_page_data['% Exit'] = ga_page_data['% Exit'].astype('float')"
   ]
  },
  {
   "cell_type": "code",
   "execution_count": null,
   "metadata": {},
   "outputs": [],
   "source": [
    "#Replace % with nothing\n",
    "ga_page_data['Page Value'] = ga_page_data['Page Value'].str.replace('£',\"\")\n",
    "#Convert the column into a Float\n",
    "ga_page_data['Page Value'] = ga_page_data['Page Value'].astype('float')"
   ]
  },
  {
   "cell_type": "code",
   "execution_count": null,
   "metadata": {},
   "outputs": [],
   "source": [
    "#Set the index for the dataframe to Page\n",
    "ga_page_data.set_index('Page',inplace=True)"
   ]
  },
  {
   "cell_type": "code",
   "execution_count": null,
   "metadata": {},
   "outputs": [],
   "source": [
    "#Check the data to make sure the data types have changed\n",
    "ga_page_data.info()"
   ]
  },
  {
   "cell_type": "markdown",
   "metadata": {},
   "source": [
    "#### Applying Groupby to the data"
   ]
  },
  {
   "cell_type": "code",
   "execution_count": null,
   "metadata": {},
   "outputs": [],
   "source": [
    "#Groupby Index and get the mean of the 'Avg. Time on Page'\n",
    "avg_time = ga_page_data.groupby(ga_page_data.index)['Avg. Time on Page'].mean(numeric_only=False)"
   ]
  },
  {
   "cell_type": "code",
   "execution_count": null,
   "metadata": {},
   "outputs": [],
   "source": [
    "#Convert avg_time to dataframe and store as ga_Time\n",
    "ga_time = pd.DataFrame(avg_time)"
   ]
  },
  {
   "cell_type": "code",
   "execution_count": null,
   "metadata": {},
   "outputs": [],
   "source": [
    "#Groupby bounce, exit, pageviews and Unique pageviews using the appropriate math \n",
    "#and store in a dataframe. Save as ga_bou_ex_type\n",
    "ga_bou_ex_type = pd.DataFrame(ga_page_data.groupby(ga_page_data.index).agg({\n",
    "    'Bounce Rate': ['mean'], \"% Exit\": ['mean'],'Pageviews': sum, 'Unique Pageviews': sum}))"
   ]
  },
  {
   "cell_type": "code",
   "execution_count": null,
   "metadata": {},
   "outputs": [],
   "source": [
    "#Check your time groupby\n",
    "ga_time['Avg. Time on Page'].head()"
   ]
  },
  {
   "cell_type": "code",
   "execution_count": null,
   "metadata": {},
   "outputs": [],
   "source": [
    "#Check your aggreated groupby\n",
    "ga_bou_ex_type.info()"
   ]
  },
  {
   "cell_type": "markdown",
   "metadata": {},
   "source": [
    "#### Rebuilding the Google Analytics dataframe"
   ]
  },
  {
   "cell_type": "markdown",
   "metadata": {},
   "source": [
    "Here we will rebuild the Google Analytics dataset with the fixed data for use later."
   ]
  },
  {
   "cell_type": "code",
   "execution_count": null,
   "metadata": {},
   "outputs": [],
   "source": [
    "#Merge ga_time and ga_bou_ex_type on page and with an inner join\n",
    "new_ga = pd.merge(ga_time, #left dataset\n",
    "                  ga_bou_ex_type, #right dataset\n",
    "                  how='inner', # we're joning using the data in the column\n",
    "                  left_on=\"Page\", # the left dataset is neing joined on the column Page\n",
    "                  right_on=\"Page\" # the right dataset is neing joined on the column Page\n",
    "                 ).sort_values(by=\"Avg. Time on Page\" ,ascending=False) #sort the new dataframe"
   ]
  },
  {
   "cell_type": "code",
   "execution_count": null,
   "metadata": {},
   "outputs": [],
   "source": [
    "new_ga.head()"
   ]
  },
  {
   "cell_type": "code",
   "execution_count": null,
   "metadata": {},
   "outputs": [],
   "source": [
    "#rename (Bounce Rate, mean), (% Exit, mean), (Pageviews, sum), (Unique Pageviews, sum)\n",
    "new_ga = new_ga.rename(columns={('Bounce Rate', 'mean'): 'Bounce Rate', ('% Exit', 'mean') : 'Exit',\n",
    "                               ('Pageviews', 'sum') : 'Pageviews', \n",
    "                               ('Unique Pageviews', 'sum') : 'Unique Pageviews'})"
   ]
  },
  {
   "cell_type": "code",
   "execution_count": null,
   "metadata": {},
   "outputs": [],
   "source": [
    "#Check the rename worked\n",
    "new_ga.head()"
   ]
  },
  {
   "cell_type": "markdown",
   "metadata": {},
   "source": [
    "## Dropping Columns"
   ]
  },
  {
   "cell_type": "markdown",
   "metadata": {},
   "source": [
    "Sometimes we end up with data that we don't need that we want to drop out of our dataframe. In this tutuorial you'll learn how to drop columns from Google Analytics and Facebook ads data."
   ]
  },
  {
   "cell_type": "code",
   "execution_count": null,
   "metadata": {},
   "outputs": [],
   "source": [
    "#Check the Google Analytics Page data\n",
    "ga_page_traffic_data.head()"
   ]
  },
  {
   "cell_type": "code",
   "execution_count": null,
   "metadata": {},
   "outputs": [],
   "source": [
    "#Drop NaN values from the dataset\n",
    "ga_page_traffic_data.dropna(axis=1, inplace=True)"
   ]
  },
  {
   "cell_type": "code",
   "execution_count": null,
   "metadata": {},
   "outputs": [],
   "source": [
    "#Check the dropna worked\n",
    "ga_page_traffic_data.head()"
   ]
  },
  {
   "cell_type": "code",
   "execution_count": null,
   "metadata": {},
   "outputs": [],
   "source": [
    "#Check the Facebook Ads data\n",
    "fb_data.head()"
   ]
  },
  {
   "cell_type": "code",
   "execution_count": null,
   "metadata": {},
   "outputs": [],
   "source": [
    "#Drop all columns that have NaN\n",
    "fb_data.drop('Unnamed: 0', axis=1, inplace=True)"
   ]
  },
  {
   "cell_type": "code",
   "execution_count": null,
   "metadata": {},
   "outputs": [],
   "source": [
    "#Check the drop worked\n",
    "fb_data.head()"
   ]
  },
  {
   "cell_type": "markdown",
   "metadata": {},
   "source": [
    "## Replacing missing (NaN) Facebook Ad data "
   ]
  },
  {
   "cell_type": "markdown",
   "metadata": {},
   "source": [
    "We cans see from the Facebook Ad data that there are a lot of NaN (Not A Number) values, these values are missing data. In order to visualise this data we will need to replace this data with a number. In this case we will use 0."
   ]
  },
  {
   "cell_type": "code",
   "execution_count": null,
   "metadata": {},
   "outputs": [],
   "source": [
    "fb_data.fillna(0,inplace=True)"
   ]
  },
  {
   "cell_type": "code",
   "execution_count": null,
   "metadata": {},
   "outputs": [],
   "source": [
    "#Check that fillna worked\n",
    "fb_data.head()"
   ]
  },
  {
   "cell_type": "markdown",
   "metadata": {},
   "source": [
    "## Joining Google Analytics and Google Search Console Data"
   ]
  },
  {
   "cell_type": "markdown",
   "metadata": {},
   "source": [
    "In order to extract more value from your datasets you can join them together so that you can view the trends all in one place. Pandas has various methods for joining data in this case you will use `pd.merge`."
   ]
  },
  {
   "cell_type": "code",
   "execution_count": null,
   "metadata": {},
   "outputs": [],
   "source": [
    "#You pandas merge to join Google Console and Google Analytics data\n",
    "ga_gsc_data = pd.merge(gsc_page, #left data\n",
    "                       new_ga, #right data\n",
    "                       how='inner', \n",
    "                       left_on=\"Page\", \n",
    "                       right_index=True)"
   ]
  },
  {
   "cell_type": "code",
   "execution_count": null,
   "metadata": {},
   "outputs": [],
   "source": [
    "#Check it worked\n",
    "ga_gsc_data.head()"
   ]
  },
  {
   "cell_type": "markdown",
   "metadata": {},
   "source": [
    "## Saving your data to a CSV "
   ]
  },
  {
   "cell_type": "markdown",
   "metadata": {},
   "source": [
    "Saving data in pandas is super easy. We'll being using .to_csv() to save the augement and new datasets for use later."
   ]
  },
  {
   "cell_type": "code",
   "execution_count": null,
   "metadata": {},
   "outputs": [],
   "source": [
    "#Save the newly created Page dataset\n",
    "ga_gsc_data.to_csv('data/other_data/ga_gsc_data.csv')"
   ]
  },
  {
   "cell_type": "code",
   "execution_count": null,
   "metadata": {},
   "outputs": [],
   "source": [
    "#Save the amended facebook dataset\n",
    "fb_data.to_csv('data/other_data/fixed_fb_data.csv')"
   ]
  },
  {
   "cell_type": "code",
   "execution_count": null,
   "metadata": {},
   "outputs": [],
   "source": []
  }
 ],
 "metadata": {
  "kernelspec": {
   "display_name": "Python 3",
   "language": "python",
   "name": "python3"
  },
  "language_info": {
   "codemirror_mode": {
    "name": "ipython",
    "version": 3
   },
   "file_extension": ".py",
   "mimetype": "text/x-python",
   "name": "python",
   "nbconvert_exporter": "python",
   "pygments_lexer": "ipython3",
   "version": "3.7.4"
  }
 },
 "nbformat": 4,
 "nbformat_minor": 2
}
